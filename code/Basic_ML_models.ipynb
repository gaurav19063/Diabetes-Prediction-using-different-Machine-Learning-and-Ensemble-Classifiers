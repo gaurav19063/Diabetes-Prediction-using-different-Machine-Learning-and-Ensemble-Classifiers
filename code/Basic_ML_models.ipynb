{
  "nbformat": 4,
  "nbformat_minor": 0,
  "metadata": {
    "colab": {
      "name": "Basic_ML_models.ipynb",
      "provenance": [],
      "collapsed_sections": [],
      "toc_visible": true
    },
    "kernelspec": {
      "name": "python3",
      "display_name": "Python 3"
    },
    "accelerator": "GPU"
  },
  "cells": [
    {
      "cell_type": "code",
      "metadata": {
        "colab": {
          "base_uri": "https://localhost:8080/"
        },
        "id": "7EJvtuWladcE",
        "outputId": "fd44b0e0-aef7-429d-a3c8-3b10887caf30"
      },
      "source": [
        "from google.colab import drive\n",
        "drive.mount('/content/drive')"
      ],
      "execution_count": 2,
      "outputs": [
        {
          "output_type": "stream",
          "text": [
            "Drive already mounted at /content/drive; to attempt to forcibly remount, call drive.mount(\"/content/drive\", force_remount=True).\n"
          ],
          "name": "stdout"
        }
      ]
    },
    {
      "cell_type": "code",
      "metadata": {
        "id": "JmIYfrM30AoR",
        "colab": {
          "base_uri": "https://localhost:8080/"
        },
        "outputId": "3f08fc84-a635-4ae3-b845-45f960ab8c33"
      },
      "source": [
        "import pandas as pd\n",
        "import seaborn as sns\n",
        "import matplotlib.pyplot as plt\n",
        "from sklearn.preprocessing import StandardScaler\n",
        "from sklearn.model_selection import cross_val_score\n",
        "from sklearn.ensemble import RandomForestClassifier as RFC\n",
        "from sklearn.metrics import make_scorer, accuracy_score, precision_score, recall_score, f1_score,matthews_corrcoef\n",
        "import numpy as np\n",
        "from sklearn.model_selection import cross_validate\n",
        "from imblearn.over_sampling import RandomOverSampler\n",
        "from collections import Counter\n",
        "from sklearn.model_selection import train_test_split\n",
        "from sklearn.metrics import classification_report\n",
        "from sklearn.model_selection import GridSearchCV\n",
        "from sklearn.svm import SVC"
      ],
      "execution_count": 3,
      "outputs": [
        {
          "output_type": "stream",
          "text": [
            "/usr/local/lib/python3.6/dist-packages/sklearn/externals/six.py:31: FutureWarning: The module is deprecated in version 0.21 and will be removed in version 0.23 since we've dropped support for Python 2.7. Please rely on the official version of six (https://pypi.org/project/six/).\n",
            "  \"(https://pypi.org/project/six/).\", FutureWarning)\n",
            "/usr/local/lib/python3.6/dist-packages/sklearn/utils/deprecation.py:144: FutureWarning: The sklearn.neighbors.base module is  deprecated in version 0.22 and will be removed in version 0.24. The corresponding classes / functions should instead be imported from sklearn.neighbors. Anything that cannot be imported from sklearn.neighbors is now part of the private API.\n",
            "  warnings.warn(message, FutureWarning)\n"
          ],
          "name": "stderr"
        }
      ]
    },
    {
      "cell_type": "markdown",
      "metadata": {
        "id": "04ERAIaewXm1"
      },
      "source": [
        "#*DEFINED* *FUNCTIONS*\r\n",
        "\r\n",
        "---\r\n",
        "\r\n"
      ]
    },
    {
      "cell_type": "code",
      "metadata": {
        "id": "4bLHPmqiv6nI"
      },
      "source": [
        "\r\n",
        "# ======================= Cross validation for performance analysis.=========================== \r\n",
        "def CV(model,X,y):\r\n",
        "  scoring = {'acc': 'accuracy',\r\n",
        "           'AUC':'roc_auc',\r\n",
        "            'f1':'f1'\r\n",
        "           }\r\n",
        "  scores = cross_validate(model, X, y, scoring=scoring,\r\n",
        "                          cv=5, return_train_score=True)\r\n",
        "  score_df=pd.DataFrame.from_dict(scores)\r\n",
        "  print(\"\\nScores for 5 folds:\")\r\n",
        "  print(score_df)\r\n",
        "  return "
      ],
      "execution_count": 4,
      "outputs": []
    },
    {
      "cell_type": "code",
      "metadata": {
        "id": "mPvuP3Qyv7jN"
      },
      "source": [
        "#============================== K Nearest Neighbor Classifier ===========================================================\r\n",
        "\r\n",
        "from sklearn.neighbors import KNeighborsClassifier\r\n",
        "def KNN(x_train, y_train,x_test):\r\n",
        "  knn=KNeighborsClassifier()\r\n",
        "  neigh = knn.fit(x_train, y_train)\r\n",
        "  y_pred=neigh.predict(x_test)\r\n",
        "  return y_pred"
      ],
      "execution_count": 5,
      "outputs": []
    },
    {
      "cell_type": "code",
      "metadata": {
        "id": "R31MeFPgv7l3"
      },
      "source": [
        "#============================== Decision Tree Classifier===========================================================\r\n",
        "\r\n",
        "from sklearn import tree\r\n",
        "from sklearn.metrics import accuracy_score\r\n",
        "def DT(X_train,y_train,X_test):\r\n",
        "  clf = tree.DecisionTreeClassifier().fit(X_train, y_train)\r\n",
        "  y_pred=clf.predict(X_test)\r\n",
        "  return y_pred"
      ],
      "execution_count": 6,
      "outputs": []
    },
    {
      "cell_type": "code",
      "metadata": {
        "id": "eXgXodCbv7oe"
      },
      "source": [
        "# ================================ XG boost ===========================================\r\n",
        "import xgboost as xgb\r\n",
        "from sklearn.metrics import mean_squared_error\r\n",
        "def XG(X_train,y_train,X_test):\r\n",
        "\r\n",
        "  parameters = {\r\n",
        "        'gamma': [0.5, 1, 1.5, 2, 5],\r\n",
        "        'subsample': [0.5, 1.0],\r\n",
        "        'max_depth': [3, 4, 5]\r\n",
        "        }\r\n",
        "  model = GridSearchCV(xgb.XGBClassifier(objective = \"binary:logistic\", eval_metric = 'error'),\r\n",
        "                    parameters,\r\n",
        "                    )\r\n",
        "  model.fit(X_train, y_train)\r\n",
        "  y_pred = model.predict(X_test)\r\n",
        "  return y_pred,model\r\n",
        "                                                \r\n",
        "  \r\n",
        "  \r\n"
      ],
      "execution_count": 7,
      "outputs": []
    },
    {
      "cell_type": "code",
      "metadata": {
        "id": "cKZI-e7av7q2"
      },
      "source": [
        "# ================================ Random Forest ===========================================\r\n",
        "\r\n",
        "from sklearn.ensemble import RandomForestClassifier\r\n",
        "def RF(X_train,y_train,X_test):\r\n",
        "  param_grid = { \r\n",
        "    'n_estimators': [100,200, 300,400],\r\n",
        "    'max_features': ['auto', 'sqrt'],\r\n",
        "    'max_depth' : [10, 20, 30, 40, 50],\r\n",
        "    'criterion' :['gini', 'entropy']\r\n",
        "  }\r\n",
        "  rfc=RandomForestClassifier(random_state=42)\r\n",
        "  clf = GridSearchCV(estimator=rfc, param_grid=param_grid, cv= 5)\r\n",
        "  clf.fit(X_train,y_train)\r\n",
        "  y_pred=clf.predict(X_test)\r\n",
        "  return y_pred,clf"
      ],
      "execution_count": 8,
      "outputs": []
    },
    {
      "cell_type": "code",
      "metadata": {
        "id": "G8jCvCetv7tA"
      },
      "source": [
        "# ================================ Naive Bayes ===========================================\r\n",
        "\r\n",
        "from sklearn.naive_bayes import GaussianNB\r\n",
        "def GNB(X_train,y_train,X_test):\r\n",
        "  params = {'var_smoothing': [0.01, 0.1, 0.5, 1.0],\r\n",
        "         }\r\n",
        "  rfc = GaussianNB()\r\n",
        "  clf = GridSearchCV(estimator=rfc, param_grid=params, cv= 5)\r\n",
        "  clf.fit(X_train,y_train)\r\n",
        "  y_pred=clf.predict(X_test)\r\n",
        "  return y_pred,clf\r\n"
      ],
      "execution_count": 9,
      "outputs": []
    },
    {
      "cell_type": "code",
      "metadata": {
        "id": "HZb7klA8v7wU"
      },
      "source": [
        "# ================================ Adaboost ===========================================\r\n",
        "from sklearn.ensemble import AdaBoostClassifier\r\n",
        "def ADB(X_train,y_train,X_test):\r\n",
        "\r\n",
        "  params= {             \r\n",
        "              \"n_estimators\": [100,200, 300,400],\r\n",
        "              \"learning_rate\": [0.01, 0.1, 0.5]\r\n",
        "             }\r\n",
        "  rfc= AdaBoostClassifier()\r\n",
        "  clf = GridSearchCV(estimator=rfc, param_grid=params, cv= 5)\r\n",
        "  clf.fit(X_train,y_train)\r\n",
        "  y_pred=clf.predict(X_test)\r\n",
        "  return y_pred,clf"
      ],
      "execution_count": 10,
      "outputs": []
    },
    {
      "cell_type": "code",
      "metadata": {
        "id": "w-gTewWO1xt0"
      },
      "source": [
        "from sklearn.ensemble import BaggingClassifier \r\n",
        "def bagging(X_train,y_train,X_test):\r\n",
        "  params={\r\n",
        "      \"n_estimators\": [100,200, 300,400]\r\n",
        "  }\r\n",
        "  rfc= BaggingClassifier() \r\n",
        "  clf = GridSearchCV(estimator=rfc, param_grid=params, cv= 5)\r\n",
        "  clf.fit(X_train,y_train)\r\n",
        "  y_pred=clf.predict(X_test)\r\n",
        "  return y_pred,clf"
      ],
      "execution_count": 11,
      "outputs": []
    },
    {
      "cell_type": "markdown",
      "metadata": {
        "id": "X614OVZuXICJ"
      },
      "source": [
        "<h4> Model hyperparameter tuning using gridsearchcv for finding Best parameters for each model.</h4>"
      ]
    },
    {
      "cell_type": "code",
      "metadata": {
        "id": "Vdz67oNKXJm4"
      },
      "source": [
        "def BestHyperParams_GridSearchCV(model,param_grid,X_train,Y_train):\n",
        "  # print(\"Grid Search for hyper parameter tunning.\")\n",
        "  grid = GridSearchCV(model,param_grid,refit = True, verbose=2,cv=5, scoring='accuracy')\n",
        "  grid.fit(X_train,Y_train)\n",
        "  return grid.best_params_"
      ],
      "execution_count": 12,
      "outputs": []
    },
    {
      "cell_type": "markdown",
      "metadata": {
        "id": "rdUreyGowzcS"
      },
      "source": [
        "#***DATA  PRE PROCESSING ***\r\n",
        "\r\n",
        "---\r\n",
        "\r\n"
      ]
    },
    {
      "cell_type": "code",
      "metadata": {
        "id": "hakxAp1OrJPj"
      },
      "source": [
        "#path for dataset\r\n",
        "data=pd.read_csv(\"/content/drive/MyDrive/MLBA Project/diabetes.csv\")"
      ],
      "execution_count": 13,
      "outputs": []
    },
    {
      "cell_type": "code",
      "metadata": {
        "colab": {
          "base_uri": "https://localhost:8080/",
          "height": 287
        },
        "id": "1Z_rHwNA02HF",
        "outputId": "91a4d0f9-98c5-4f2a-b137-5928152fc7d4"
      },
      "source": [
        "# =========================== describing data  =======================================\r\n",
        "# print(data)\r\n",
        "data.describe()"
      ],
      "execution_count": 14,
      "outputs": [
        {
          "output_type": "execute_result",
          "data": {
            "text/html": [
              "<div>\n",
              "<style scoped>\n",
              "    .dataframe tbody tr th:only-of-type {\n",
              "        vertical-align: middle;\n",
              "    }\n",
              "\n",
              "    .dataframe tbody tr th {\n",
              "        vertical-align: top;\n",
              "    }\n",
              "\n",
              "    .dataframe thead th {\n",
              "        text-align: right;\n",
              "    }\n",
              "</style>\n",
              "<table border=\"1\" class=\"dataframe\">\n",
              "  <thead>\n",
              "    <tr style=\"text-align: right;\">\n",
              "      <th></th>\n",
              "      <th>Pregnancies</th>\n",
              "      <th>Glucose</th>\n",
              "      <th>BloodPressure</th>\n",
              "      <th>SkinThickness</th>\n",
              "      <th>Insulin</th>\n",
              "      <th>BMI</th>\n",
              "      <th>DiabetesPedigreeFunction</th>\n",
              "      <th>Age</th>\n",
              "      <th>Outcome</th>\n",
              "    </tr>\n",
              "  </thead>\n",
              "  <tbody>\n",
              "    <tr>\n",
              "      <th>count</th>\n",
              "      <td>768.000000</td>\n",
              "      <td>768.000000</td>\n",
              "      <td>768.000000</td>\n",
              "      <td>768.000000</td>\n",
              "      <td>768.000000</td>\n",
              "      <td>768.000000</td>\n",
              "      <td>768.000000</td>\n",
              "      <td>768.000000</td>\n",
              "      <td>768.000000</td>\n",
              "    </tr>\n",
              "    <tr>\n",
              "      <th>mean</th>\n",
              "      <td>3.845052</td>\n",
              "      <td>120.894531</td>\n",
              "      <td>69.105469</td>\n",
              "      <td>20.536458</td>\n",
              "      <td>79.799479</td>\n",
              "      <td>31.992578</td>\n",
              "      <td>0.471876</td>\n",
              "      <td>33.240885</td>\n",
              "      <td>0.348958</td>\n",
              "    </tr>\n",
              "    <tr>\n",
              "      <th>std</th>\n",
              "      <td>3.369578</td>\n",
              "      <td>31.972618</td>\n",
              "      <td>19.355807</td>\n",
              "      <td>15.952218</td>\n",
              "      <td>115.244002</td>\n",
              "      <td>7.884160</td>\n",
              "      <td>0.331329</td>\n",
              "      <td>11.760232</td>\n",
              "      <td>0.476951</td>\n",
              "    </tr>\n",
              "    <tr>\n",
              "      <th>min</th>\n",
              "      <td>0.000000</td>\n",
              "      <td>0.000000</td>\n",
              "      <td>0.000000</td>\n",
              "      <td>0.000000</td>\n",
              "      <td>0.000000</td>\n",
              "      <td>0.000000</td>\n",
              "      <td>0.078000</td>\n",
              "      <td>21.000000</td>\n",
              "      <td>0.000000</td>\n",
              "    </tr>\n",
              "    <tr>\n",
              "      <th>25%</th>\n",
              "      <td>1.000000</td>\n",
              "      <td>99.000000</td>\n",
              "      <td>62.000000</td>\n",
              "      <td>0.000000</td>\n",
              "      <td>0.000000</td>\n",
              "      <td>27.300000</td>\n",
              "      <td>0.243750</td>\n",
              "      <td>24.000000</td>\n",
              "      <td>0.000000</td>\n",
              "    </tr>\n",
              "    <tr>\n",
              "      <th>50%</th>\n",
              "      <td>3.000000</td>\n",
              "      <td>117.000000</td>\n",
              "      <td>72.000000</td>\n",
              "      <td>23.000000</td>\n",
              "      <td>30.500000</td>\n",
              "      <td>32.000000</td>\n",
              "      <td>0.372500</td>\n",
              "      <td>29.000000</td>\n",
              "      <td>0.000000</td>\n",
              "    </tr>\n",
              "    <tr>\n",
              "      <th>75%</th>\n",
              "      <td>6.000000</td>\n",
              "      <td>140.250000</td>\n",
              "      <td>80.000000</td>\n",
              "      <td>32.000000</td>\n",
              "      <td>127.250000</td>\n",
              "      <td>36.600000</td>\n",
              "      <td>0.626250</td>\n",
              "      <td>41.000000</td>\n",
              "      <td>1.000000</td>\n",
              "    </tr>\n",
              "    <tr>\n",
              "      <th>max</th>\n",
              "      <td>17.000000</td>\n",
              "      <td>199.000000</td>\n",
              "      <td>122.000000</td>\n",
              "      <td>99.000000</td>\n",
              "      <td>846.000000</td>\n",
              "      <td>67.100000</td>\n",
              "      <td>2.420000</td>\n",
              "      <td>81.000000</td>\n",
              "      <td>1.000000</td>\n",
              "    </tr>\n",
              "  </tbody>\n",
              "</table>\n",
              "</div>"
            ],
            "text/plain": [
              "       Pregnancies     Glucose  ...         Age     Outcome\n",
              "count   768.000000  768.000000  ...  768.000000  768.000000\n",
              "mean      3.845052  120.894531  ...   33.240885    0.348958\n",
              "std       3.369578   31.972618  ...   11.760232    0.476951\n",
              "min       0.000000    0.000000  ...   21.000000    0.000000\n",
              "25%       1.000000   99.000000  ...   24.000000    0.000000\n",
              "50%       3.000000  117.000000  ...   29.000000    0.000000\n",
              "75%       6.000000  140.250000  ...   41.000000    1.000000\n",
              "max      17.000000  199.000000  ...   81.000000    1.000000\n",
              "\n",
              "[8 rows x 9 columns]"
            ]
          },
          "metadata": {
            "tags": []
          },
          "execution_count": 14
        }
      ]
    },
    {
      "cell_type": "markdown",
      "metadata": {
        "id": "lWBp4jPDPMs9"
      },
      "source": [
        "<h2> Data Competency Assessment</h2>\n",
        "<ul>\n",
        "<li>Checking Null values.</li>\n",
        "<li>Finding correlation between the different features.</li>\n",
        "<li>Finding Best features for the best model performance.</li>\n",
        "</ul>"
      ]
    },
    {
      "cell_type": "code",
      "metadata": {
        "id": "E78r0OBV1bUS",
        "colab": {
          "base_uri": "https://localhost:8080/",
          "height": 370
        },
        "outputId": "71bc1924-6698-4399-b9cf-1a3ddb60b4bd"
      },
      "source": [
        "# =========================== Finding null value =======================================\n",
        "# data.fillna(data.mean())\n",
        "print(\"Is there any Null value? \",data.isnull().any().any())\n",
        "# =========================== plotting class distribution =======================================\n",
        "sns.countplot(data['Outcome'])"
      ],
      "execution_count": 15,
      "outputs": [
        {
          "output_type": "stream",
          "text": [
            "Is there any Null value?  False\n"
          ],
          "name": "stdout"
        },
        {
          "output_type": "stream",
          "text": [
            "/usr/local/lib/python3.6/dist-packages/seaborn/_decorators.py:43: FutureWarning: Pass the following variable as a keyword arg: x. From version 0.12, the only valid positional argument will be `data`, and passing other arguments without an explicit keyword will result in an error or misinterpretation.\n",
            "  FutureWarning\n"
          ],
          "name": "stderr"
        },
        {
          "output_type": "execute_result",
          "data": {
            "text/plain": [
              "<matplotlib.axes._subplots.AxesSubplot at 0x7fb610e90320>"
            ]
          },
          "metadata": {
            "tags": []
          },
          "execution_count": 15
        },
        {
          "output_type": "display_data",
          "data": {
            "image/png": "[encoded data removed]",
            "text/plain": [
              "<Figure size 432x288 with 1 Axes>"
            ]
          },
          "metadata": {
            "tags": [],
            "needs_background": "light"
          }
        }
      ]
    },
    {
      "cell_type": "markdown",
      "metadata": {
        "id": "8zTsLwhHVCrv"
      },
      "source": [
        "<h3> Observations from the above Countplot.</h3>\n",
        "<ul>\n",
        "<li> There is the problem of class imbalancy (using oversampling techniques to handel this problem). </li>\n",
        "</ul>"
      ]
    },
    {
      "cell_type": "code",
      "metadata": {
        "colab": {
          "base_uri": "https://localhost:8080/",
          "height": 407
        },
        "id": "JM6EGImSiWFE",
        "outputId": "1759ad4b-95c6-42f6-bd07-22e036cff9fc"
      },
      "source": [
        "# =========================== Cheacking Corrilation Between the different Features =======================================\r\n",
        "# sns.heatmap(data,annot=True, fmt=\"g\", cmap='viridis')\r\n",
        "corr = data.corr()\r\n",
        "sns.heatmap(corr, xticklabels=corr.columns,yticklabels=corr.columns,annot=True)"
      ],
      "execution_count": 16,
      "outputs": [
        {
          "output_type": "execute_result",
          "data": {
            "text/plain": [
              "<matplotlib.axes._subplots.AxesSubplot at 0x7fb610db6a90>"
            ]
          },
          "metadata": {
            "tags": []
          },
          "execution_count": 16
        },
        {
          "output_type": "display_data",
          "data": {
            "image/png": "[encoded data removed]",
            "text/plain": [
              "<Figure size 432x288 with 2 Axes>"
            ]
          },
          "metadata": {
            "tags": [],
            "needs_background": "light"
          }
        }
      ]
    },
    {
      "cell_type": "markdown",
      "metadata": {
        "id": "90Kd04I6TiCQ"
      },
      "source": [
        "<h3> Observations from the above heatmap.</h3>\n",
        "<ul> \n",
        "<li>We found no two features are highly correlated to each other so all the features are useful to predict the outcome.\n",
        "<li> Features like glucose is heighly correlated to the outcome. So it'll be heighly useful for predicting outcome.</li>\n",
        "</ul>"
      ]
    },
    {
      "cell_type": "markdown",
      "metadata": {
        "id": "uNDYssAMU7wt"
      },
      "source": [
        "<h3>"
      ]
    },
    {
      "cell_type": "markdown",
      "metadata": {
        "id": "x4jQSudYV7rl"
      },
      "source": [
        "<h4> Dataset Scaling for feature standerization.</h4>"
      ]
    },
    {
      "cell_type": "code",
      "metadata": {
        "id": "e7CYBZ6qjeWg",
        "colab": {
          "base_uri": "https://localhost:8080/"
        },
        "outputId": "cb5bce2b-2641-4c95-d135-630d737e6574"
      },
      "source": [
        "# =========================== Scaling data  =======================================\n",
        "scaler = StandardScaler()\n",
        "# data_train=data.drop(['Outcome'],axis=1)\n",
        "scaled_data=scaler.fit_transform(data.drop(['Outcome'],axis=1))\n",
        "X= pd.DataFrame(scaled_data, index=data.index, columns=list(data.columns)[:-1])\n",
        "Y=data['Outcome']\n",
        "print(X)"
      ],
      "execution_count": 17,
      "outputs": [
        {
          "output_type": "stream",
          "text": [
            "     Pregnancies   Glucose  ...  DiabetesPedigreeFunction       Age\n",
            "0       0.639947  0.848324  ...                  0.468492  1.425995\n",
            "1      -0.844885 -1.123396  ...                 -0.365061 -0.190672\n",
            "2       1.233880  1.943724  ...                  0.604397 -0.105584\n",
            "3      -0.844885 -0.998208  ...                 -0.920763 -1.041549\n",
            "4      -1.141852  0.504055  ...                  5.484909 -0.020496\n",
            "..           ...       ...  ...                       ...       ...\n",
            "763     1.827813 -0.622642  ...                 -0.908682  2.532136\n",
            "764    -0.547919  0.034598  ...                 -0.398282 -0.531023\n",
            "765     0.342981  0.003301  ...                 -0.685193 -0.275760\n",
            "766    -0.844885  0.159787  ...                 -0.371101  1.170732\n",
            "767    -0.844885 -0.873019  ...                 -0.473785 -0.871374\n",
            "\n",
            "[768 rows x 8 columns]\n"
          ],
          "name": "stdout"
        }
      ]
    },
    {
      "cell_type": "markdown",
      "metadata": {
        "id": "0-J-SjZiWDF-"
      },
      "source": [
        "<h4> Dataset Oversampling for handeling class imbalance problem.</h4>"
      ]
    },
    {
      "cell_type": "code",
      "metadata": {
        "colab": {
          "base_uri": "https://localhost:8080/"
        },
        "id": "l9goaKX1vv30",
        "outputId": "4f1cff7f-7b3b-4405-d2b6-5c33529aaddb"
      },
      "source": [
        "  oversample = RandomOverSampler(sampling_strategy='minority',random_state=48)\n",
        "  # fit and apply the transform\n",
        "  X_over, y_over = oversample.fit_resample(X, Y)\n",
        "  # summarize class distribution\n",
        "  print(Counter(y_over))"
      ],
      "execution_count": 18,
      "outputs": [
        {
          "output_type": "stream",
          "text": [
            "Counter({1: 500, 0: 500})\n"
          ],
          "name": "stdout"
        },
        {
          "output_type": "stream",
          "text": [
            "/usr/local/lib/python3.6/dist-packages/sklearn/utils/deprecation.py:87: FutureWarning: Function safe_indexing is deprecated; safe_indexing is deprecated in version 0.22 and will be removed in version 0.24.\n",
            "  warnings.warn(msg, category=FutureWarning)\n"
          ],
          "name": "stderr"
        }
      ]
    },
    {
      "cell_type": "markdown",
      "metadata": {
        "id": "vF3o-MYfxVTn"
      },
      "source": [
        "#***EVALUATING MODELS***\r\n",
        "\r\n",
        "---\r\n",
        "\r\n"
      ]
    },
    {
      "cell_type": "markdown",
      "metadata": {
        "id": "lxGMZ76mW05O"
      },
      "source": [
        "<h3> GridSearchCV for finding Best Hyperparameters for different models.</h3>\n"
      ]
    },
    {
      "cell_type": "code",
      "metadata": {
        "id": "hK27RplJWzUw"
      },
      "source": [
        "param_grid = {'C':[1,10,100,1000],'gamma':[1,0.1,0.001,0.0001], 'kernel':['linear','rbf']}\n",
        "model=SVC()\n",
        "# print(\"Best hyperparameters\",BestHyperParams_GridSearchCV(model,param_grid,X,Y))"
      ],
      "execution_count": 19,
      "outputs": []
    },
    {
      "cell_type": "code",
      "metadata": {
        "id": "meeecBzIttzJ"
      },
      "source": [
        "# ==========================spliting data into 70:30 train test data ==============================\r\n",
        "x_train, x_test, y_train, y_test = train_test_split(X, Y ,test_size=0.3, random_state=42)"
      ],
      "execution_count": 20,
      "outputs": []
    },
    {
      "cell_type": "code",
      "metadata": {
        "id": "5miG5qPuxMrt",
        "colab": {
          "base_uri": "https://localhost:8080/"
        },
        "outputId": "e831cece-3311-4aef-d99c-63f19be1526b"
      },
      "source": [
        "#============================== MultiLayerPerceptron Classifier===========================================================\r\n",
        "from sklearn.neural_network import MLPClassifier\r\n",
        "clf = MLPClassifier(random_state=1, solver=\"sgd\",max_iter=700).fit(x_train, y_train)\r\n",
        "pred_MLP=clf.predict(x_test)\r\n",
        "print(classification_report(y_test, pred_MLP, target_names=[\"0\",\"1\"]))\r\n"
      ],
      "execution_count": 21,
      "outputs": [
        {
          "output_type": "stream",
          "text": [
            "              precision    recall  f1-score   support\n",
            "\n",
            "           0       0.80      0.80      0.80       151\n",
            "           1       0.62      0.61      0.62        80\n",
            "\n",
            "    accuracy                           0.74       231\n",
            "   macro avg       0.71      0.71      0.71       231\n",
            "weighted avg       0.74      0.74      0.74       231\n",
            "\n"
          ],
          "name": "stdout"
        }
      ]
    },
    {
      "cell_type": "code",
      "metadata": {
        "colab": {
          "base_uri": "https://localhost:8080/"
        },
        "id": "d16epGGjwNGh",
        "outputId": "6a7ce206-128a-4f04-8d54-63d7b230c98c"
      },
      "source": [
        "# =========== Evaluating ML models = KNN,DT and deep learning model = MLP ,ensemble model XGboosting on 30 % test data ============\r\n",
        "print(\"======================== For KNN\")\r\n",
        "CV(KNeighborsClassifier(),x_train,y_train)\r\n",
        "pred_KNN=KNN(x_train,y_train,x_test)\r\n",
        "print(classification_report(y_test, pred_KNN, target_names=[\"0\",\"1\"]))\r\n",
        "\r\n",
        "print(\"========================= For Decision Tree\")\r\n",
        "CV(tree.DecisionTreeClassifier(),x_train,y_train)\r\n",
        "pred_DT=DT(x_train,y_train,x_test)\r\n",
        "print(classification_report(y_test, pred_DT, target_names=[\"0\",\"1\"]))\r\n",
        "\r\n",
        "print(\"========================== For XG boosting\")\r\n",
        "pred_XG,model=XG(x_train,y_train,x_test)\r\n",
        "CV(model,x_train,y_train)\r\n",
        "print(classification_report(y_test, pred_XG, target_names=[\"0\",\"1\"]))\r\n",
        "\r\n",
        "print(\"=========================== For MLP\")\r\n",
        "CV(clf,x_train,y_train)\r\n",
        "print(classification_report(y_test, pred_MLP, target_names=[\"0\",\"1\"]))\r\n"
      ],
      "execution_count": 22,
      "outputs": [
        {
          "output_type": "stream",
          "text": [
            "======================== For KNN\n",
            "\n",
            "Scores for 5 folds:\n",
            "   fit_time  score_time  test_acc  ...  train_AUC   test_f1  train_f1\n",
            "0  0.003158    0.011836  0.759259  ...   0.884624  0.648649  0.712727\n",
            "1  0.002062    0.011459  0.787037  ...   0.900311  0.646154  0.724638\n",
            "2  0.001995    0.008035  0.766355  ...   0.898799  0.626866  0.708029\n",
            "3  0.001389    0.007887  0.766355  ...   0.915521  0.637681  0.754448\n",
            "4  0.001412    0.007394  0.710280  ...   0.903250  0.575342  0.746377\n",
            "\n",
            "[5 rows x 8 columns]\n",
            "              precision    recall  f1-score   support\n",
            "\n",
            "           0       0.75      0.79      0.77       151\n",
            "           1       0.56      0.51      0.54        80\n",
            "\n",
            "    accuracy                           0.69       231\n",
            "   macro avg       0.66      0.65      0.65       231\n",
            "weighted avg       0.69      0.69      0.69       231\n",
            "\n",
            "========================= For Decision Tree\n",
            "\n",
            "Scores for 5 folds:\n",
            "   fit_time  score_time  test_acc  ...  train_AUC   test_f1  train_f1\n",
            "0  0.002962    0.002882  0.740741  ...        1.0  0.588235       1.0\n",
            "1  0.002422    0.002646  0.703704  ...        1.0  0.542857       1.0\n",
            "2  0.002676    0.002740  0.738318  ...        1.0  0.621622       1.0\n",
            "3  0.002407    0.002559  0.719626  ...        1.0  0.558824       1.0\n",
            "4  0.002420    0.002731  0.663551  ...        1.0  0.538462       1.0\n",
            "\n",
            "[5 rows x 8 columns]\n",
            "              precision    recall  f1-score   support\n",
            "\n",
            "           0       0.81      0.74      0.77       151\n",
            "           1       0.58      0.66      0.62        80\n",
            "\n",
            "    accuracy                           0.71       231\n",
            "   macro avg       0.69      0.70      0.69       231\n",
            "weighted avg       0.73      0.71      0.72       231\n",
            "\n",
            "========================== For XG boosting\n",
            "\n",
            "Scores for 5 folds:\n",
            "   fit_time  score_time  test_acc  ...  train_AUC   test_f1  train_f1\n",
            "0  5.429574    0.004076  0.787037  ...   0.981243  0.684932  0.910345\n",
            "1  5.304302    0.003616  0.768519  ...   0.920860  0.637681  0.769759\n",
            "2  5.261131    0.003892  0.785047  ...   0.910477  0.684932  0.757895\n",
            "3  5.323895    0.004472  0.728972  ...   0.987325  0.553846  0.918919\n",
            "4  5.408899    0.003986  0.757009  ...   0.973810  0.617647  0.877193\n",
            "\n",
            "[5 rows x 8 columns]\n",
            "              precision    recall  f1-score   support\n",
            "\n",
            "           0       0.82      0.80      0.81       151\n",
            "           1       0.64      0.66      0.65        80\n",
            "\n",
            "    accuracy                           0.75       231\n",
            "   macro avg       0.73      0.73      0.73       231\n",
            "weighted avg       0.76      0.75      0.75       231\n",
            "\n",
            "=========================== For MLP\n",
            "\n",
            "Scores for 5 folds:\n",
            "   fit_time  score_time  test_acc  ...  train_AUC   test_f1  train_f1\n",
            "0  0.839450    0.005494  0.805556  ...   0.855436  0.686567  0.623574\n",
            "1  0.810943    0.005108  0.777778  ...   0.869582  0.647059  0.669039\n",
            "2  0.943713    0.005229  0.775701  ...   0.867289  0.666667  0.683824\n",
            "3  0.842038    0.005101  0.766355  ...   0.872060  0.603175  0.683453\n",
            "4  0.832708    0.004921  0.738318  ...   0.866714  0.600000  0.651852\n",
            "\n",
            "[5 rows x 8 columns]\n",
            "              precision    recall  f1-score   support\n",
            "\n",
            "           0       0.80      0.80      0.80       151\n",
            "           1       0.62      0.61      0.62        80\n",
            "\n",
            "    accuracy                           0.74       231\n",
            "   macro avg       0.71      0.71      0.71       231\n",
            "weighted avg       0.74      0.74      0.74       231\n",
            "\n"
          ],
          "name": "stdout"
        }
      ]
    },
    {
      "cell_type": "code",
      "metadata": {
        "id": "Iu1uHhCG3UEh",
        "colab": {
          "base_uri": "https://localhost:8080/"
        },
        "outputId": "a3739491-fbf7-4c1f-dfca-d9926da92637"
      },
      "source": [
        "# =========== Evaluating ML models = Random Forest,Naive Bayes , Adaboost on 30 % test data ============\r\n",
        "\r\n",
        "print(\"======================== For Adaboost\")\r\n",
        "pred_ADB,model=ADB(x_train,y_train,x_test)\r\n",
        "CV(model,x_train,y_train)\r\n",
        "print(classification_report(y_test, pred_ADB, target_names=[\"0\",\"1\"]))\r\n",
        "print(\"======================== For Naive Bayes\")\r\n",
        "pred_NB,model=GNB(x_train,y_train,x_test)\r\n",
        "CV(model,x_train,y_train)\r\n",
        "print(classification_report(y_test, pred_NB, target_names=[\"0\",\"1\"]))\r\n",
        "print(\"======================== For Bagging\")\r\n",
        "pred_bag,model=bagging(x_train,y_train,x_test)\r\n",
        "CV(model,x_train,y_train)\r\n",
        "print(classification_report(y_test, pred_bag, target_names=[\"0\",\"1\"]))\r\n"
      ],
      "execution_count": null,
      "outputs": [
        {
          "output_type": "stream",
          "text": [
            "======================== For Adaboost\n",
            "\n",
            "Scores for 5 folds:\n",
            "    fit_time  score_time  test_acc  ...  train_AUC   test_f1  train_f1\n",
            "0  21.785151    0.048244  0.796296  ...   0.919785  0.666667  0.743682\n",
            "1  21.818772    0.075219  0.703704  ...   0.886045  0.515152  0.664093\n",
            "2  21.949043    0.048084  0.803738  ...   0.913053  0.695652  0.735714\n",
            "3  21.654802    0.026333  0.691589  ...   0.917064  0.459016  0.725926\n",
            "4  21.520075    0.025876  0.757009  ...   0.906060  0.617647  0.695341\n",
            "\n",
            "[5 rows x 8 columns]\n",
            "              precision    recall  f1-score   support\n",
            "\n",
            "           0       0.81      0.81      0.81       151\n",
            "           1       0.64      0.64      0.64        80\n",
            "\n",
            "    accuracy                           0.75       231\n",
            "   macro avg       0.72      0.72      0.72       231\n",
            "weighted avg       0.75      0.75      0.75       231\n",
            "\n",
            "======================== For Naive Bayes\n",
            "\n",
            "Scores for 5 folds:\n",
            "   fit_time  score_time  test_acc  ...  train_AUC   test_f1  train_f1\n",
            "0  0.048265    0.003174  0.787037  ...   0.818949  0.676056  0.605166\n",
            "1  0.049388    0.003008  0.731481  ...   0.836559  0.567164  0.635036\n",
            "2  0.052219    0.003095  0.813084  ...   0.829595  0.687500  0.567901\n",
            "3  0.048690    0.003026  0.710280  ...   0.846899  0.474576  0.585366\n",
            "4  0.049214    0.003054  0.747664  ...   0.821262  0.584615  0.635379\n",
            "\n",
            "[5 rows x 8 columns]\n",
            "              precision    recall  f1-score   support\n",
            "\n",
            "           0       0.77      0.86      0.82       151\n",
            "           1       0.67      0.53      0.59        80\n",
            "\n",
            "    accuracy                           0.74       231\n",
            "   macro avg       0.72      0.69      0.70       231\n",
            "weighted avg       0.74      0.74      0.74       231\n",
            "\n",
            "======================== For Bagging\n"
          ],
          "name": "stdout"
        }
      ]
    },
    {
      "cell_type": "code",
      "metadata": {
        "id": "5Phu_rqRbHUn"
      },
      "source": [
        ""
      ],
      "execution_count": null,
      "outputs": []
    }
  ]
}